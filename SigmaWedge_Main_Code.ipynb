{
  "nbformat": 4,
  "nbformat_minor": 0,
  "metadata": {
    "colab": {
      "provenance": []
    },
    "kernelspec": {
      "name": "python3",
      "display_name": "Python 3"
    },
    "language_info": {
      "name": "python"
    }
  },
  "cells": [
    {
      "cell_type": "code",
      "execution_count": 19,
      "metadata": {
        "id": "F0tLCzflgG61"
      },
      "outputs": [],
      "source": [
        "# !pip install yfinance\n",
        "# !pip install tabulate"
      ]
    },
    {
      "cell_type": "code",
      "source": [
        "from datetime import datetime\n",
        "from tabulate import tabulate\n",
        "import pandas as pd\n",
        "import matplotlib.pyplot as plt"
      ],
      "metadata": {
        "id": "kaY3-k2CgIAB"
      },
      "execution_count": 20,
      "outputs": []
    },
    {
      "cell_type": "markdown",
      "source": [
        "# **Reading the Dataset and preparing it for my usecase**\n",
        "\n",
        "1. Setting the *Date* column as my index\n",
        "2. Dropping the unecessary *Field* column\n",
        "\n",
        "**NOTE:**\n",
        "\n",
        "> *FIBBG000B9XRY4* is the ID used to represent the Apple Stocks\n",
        "\n"
      ],
      "metadata": {
        "id": "_YEGB9lF0nt1"
      }
    },
    {
      "cell_type": "code",
      "source": [
        "prices = pd.read_excel('/content/drive/MyDrive/AAPL_STOCKS_2023.xlsx')\n",
        "\n",
        "\n",
        "prices.set_index('Date', inplace=True)\n",
        "prices.drop('Field', axis = 1,  inplace=True)\n",
        "\n",
        "prices"
      ],
      "metadata": {
        "id": "AieKWmHZgJVU",
        "colab": {
          "base_uri": "https://localhost:8080/",
          "height": 455
        },
        "outputId": "2f36e9c9-6313-4f53-df07-845598dcce67"
      },
      "execution_count": 21,
      "outputs": [
        {
          "output_type": "execute_result",
          "data": {
            "text/plain": [
              "            FIBBG000B9XRY4\n",
              "Date                      \n",
              "2023-01-03        124.2163\n",
              "2023-01-04        125.4975\n",
              "2023-01-05        124.1666\n",
              "2023-01-06        128.7352\n",
              "2023-01-09        129.2616\n",
              "...                    ...\n",
              "2023-12-22        193.3533\n",
              "2023-12-26        192.8040\n",
              "2023-12-27        192.9038\n",
              "2023-12-28        193.3333\n",
              "2023-12-29        192.2846\n",
              "\n",
              "[250 rows x 1 columns]"
            ],
            "text/html": [
              "\n",
              "  <div id=\"df-f3b02715-90f3-43d3-b9e1-02a0167c44d2\" class=\"colab-df-container\">\n",
              "    <div>\n",
              "<style scoped>\n",
              "    .dataframe tbody tr th:only-of-type {\n",
              "        vertical-align: middle;\n",
              "    }\n",
              "\n",
              "    .dataframe tbody tr th {\n",
              "        vertical-align: top;\n",
              "    }\n",
              "\n",
              "    .dataframe thead th {\n",
              "        text-align: right;\n",
              "    }\n",
              "</style>\n",
              "<table border=\"1\" class=\"dataframe\">\n",
              "  <thead>\n",
              "    <tr style=\"text-align: right;\">\n",
              "      <th></th>\n",
              "      <th>FIBBG000B9XRY4</th>\n",
              "    </tr>\n",
              "    <tr>\n",
              "      <th>Date</th>\n",
              "      <th></th>\n",
              "    </tr>\n",
              "  </thead>\n",
              "  <tbody>\n",
              "    <tr>\n",
              "      <th>2023-01-03</th>\n",
              "      <td>124.2163</td>\n",
              "    </tr>\n",
              "    <tr>\n",
              "      <th>2023-01-04</th>\n",
              "      <td>125.4975</td>\n",
              "    </tr>\n",
              "    <tr>\n",
              "      <th>2023-01-05</th>\n",
              "      <td>124.1666</td>\n",
              "    </tr>\n",
              "    <tr>\n",
              "      <th>2023-01-06</th>\n",
              "      <td>128.7352</td>\n",
              "    </tr>\n",
              "    <tr>\n",
              "      <th>2023-01-09</th>\n",
              "      <td>129.2616</td>\n",
              "    </tr>\n",
              "    <tr>\n",
              "      <th>...</th>\n",
              "      <td>...</td>\n",
              "    </tr>\n",
              "    <tr>\n",
              "      <th>2023-12-22</th>\n",
              "      <td>193.3533</td>\n",
              "    </tr>\n",
              "    <tr>\n",
              "      <th>2023-12-26</th>\n",
              "      <td>192.8040</td>\n",
              "    </tr>\n",
              "    <tr>\n",
              "      <th>2023-12-27</th>\n",
              "      <td>192.9038</td>\n",
              "    </tr>\n",
              "    <tr>\n",
              "      <th>2023-12-28</th>\n",
              "      <td>193.3333</td>\n",
              "    </tr>\n",
              "    <tr>\n",
              "      <th>2023-12-29</th>\n",
              "      <td>192.2846</td>\n",
              "    </tr>\n",
              "  </tbody>\n",
              "</table>\n",
              "<p>250 rows × 1 columns</p>\n",
              "</div>\n",
              "    <div class=\"colab-df-buttons\">\n",
              "\n",
              "  <div class=\"colab-df-container\">\n",
              "    <button class=\"colab-df-convert\" onclick=\"convertToInteractive('df-f3b02715-90f3-43d3-b9e1-02a0167c44d2')\"\n",
              "            title=\"Convert this dataframe to an interactive table.\"\n",
              "            style=\"display:none;\">\n",
              "\n",
              "  <svg xmlns=\"http://www.w3.org/2000/svg\" height=\"24px\" viewBox=\"0 -960 960 960\">\n",
              "    <path d=\"M120-120v-720h720v720H120Zm60-500h600v-160H180v160Zm220 220h160v-160H400v160Zm0 220h160v-160H400v160ZM180-400h160v-160H180v160Zm440 0h160v-160H620v160ZM180-180h160v-160H180v160Zm440 0h160v-160H620v160Z\"/>\n",
              "  </svg>\n",
              "    </button>\n",
              "\n",
              "  <style>\n",
              "    .colab-df-container {\n",
              "      display:flex;\n",
              "      gap: 12px;\n",
              "    }\n",
              "\n",
              "    .colab-df-convert {\n",
              "      background-color: #E8F0FE;\n",
              "      border: none;\n",
              "      border-radius: 50%;\n",
              "      cursor: pointer;\n",
              "      display: none;\n",
              "      fill: #1967D2;\n",
              "      height: 32px;\n",
              "      padding: 0 0 0 0;\n",
              "      width: 32px;\n",
              "    }\n",
              "\n",
              "    .colab-df-convert:hover {\n",
              "      background-color: #E2EBFA;\n",
              "      box-shadow: 0px 1px 2px rgba(60, 64, 67, 0.3), 0px 1px 3px 1px rgba(60, 64, 67, 0.15);\n",
              "      fill: #174EA6;\n",
              "    }\n",
              "\n",
              "    .colab-df-buttons div {\n",
              "      margin-bottom: 4px;\n",
              "    }\n",
              "\n",
              "    [theme=dark] .colab-df-convert {\n",
              "      background-color: #3B4455;\n",
              "      fill: #D2E3FC;\n",
              "    }\n",
              "\n",
              "    [theme=dark] .colab-df-convert:hover {\n",
              "      background-color: #434B5C;\n",
              "      box-shadow: 0px 1px 3px 1px rgba(0, 0, 0, 0.15);\n",
              "      filter: drop-shadow(0px 1px 2px rgba(0, 0, 0, 0.3));\n",
              "      fill: #FFFFFF;\n",
              "    }\n",
              "  </style>\n",
              "\n",
              "    <script>\n",
              "      const buttonEl =\n",
              "        document.querySelector('#df-f3b02715-90f3-43d3-b9e1-02a0167c44d2 button.colab-df-convert');\n",
              "      buttonEl.style.display =\n",
              "        google.colab.kernel.accessAllowed ? 'block' : 'none';\n",
              "\n",
              "      async function convertToInteractive(key) {\n",
              "        const element = document.querySelector('#df-f3b02715-90f3-43d3-b9e1-02a0167c44d2');\n",
              "        const dataTable =\n",
              "          await google.colab.kernel.invokeFunction('convertToInteractive',\n",
              "                                                    [key], {});\n",
              "        if (!dataTable) return;\n",
              "\n",
              "        const docLinkHtml = 'Like what you see? Visit the ' +\n",
              "          '<a target=\"_blank\" href=https://colab.research.google.com/notebooks/data_table.ipynb>data table notebook</a>'\n",
              "          + ' to learn more about interactive tables.';\n",
              "        element.innerHTML = '';\n",
              "        dataTable['output_type'] = 'display_data';\n",
              "        await google.colab.output.renderOutput(dataTable, element);\n",
              "        const docLink = document.createElement('div');\n",
              "        docLink.innerHTML = docLinkHtml;\n",
              "        element.appendChild(docLink);\n",
              "      }\n",
              "    </script>\n",
              "  </div>\n",
              "\n",
              "\n",
              "<div id=\"df-1d89f5af-d0ce-412f-a542-e60888acdda4\">\n",
              "  <button class=\"colab-df-quickchart\" onclick=\"quickchart('df-1d89f5af-d0ce-412f-a542-e60888acdda4')\"\n",
              "            title=\"Suggest charts\"\n",
              "            style=\"display:none;\">\n",
              "\n",
              "<svg xmlns=\"http://www.w3.org/2000/svg\" height=\"24px\"viewBox=\"0 0 24 24\"\n",
              "     width=\"24px\">\n",
              "    <g>\n",
              "        <path d=\"M19 3H5c-1.1 0-2 .9-2 2v14c0 1.1.9 2 2 2h14c1.1 0 2-.9 2-2V5c0-1.1-.9-2-2-2zM9 17H7v-7h2v7zm4 0h-2V7h2v10zm4 0h-2v-4h2v4z\"/>\n",
              "    </g>\n",
              "</svg>\n",
              "  </button>\n",
              "\n",
              "<style>\n",
              "  .colab-df-quickchart {\n",
              "      --bg-color: #E8F0FE;\n",
              "      --fill-color: #1967D2;\n",
              "      --hover-bg-color: #E2EBFA;\n",
              "      --hover-fill-color: #174EA6;\n",
              "      --disabled-fill-color: #AAA;\n",
              "      --disabled-bg-color: #DDD;\n",
              "  }\n",
              "\n",
              "  [theme=dark] .colab-df-quickchart {\n",
              "      --bg-color: #3B4455;\n",
              "      --fill-color: #D2E3FC;\n",
              "      --hover-bg-color: #434B5C;\n",
              "      --hover-fill-color: #FFFFFF;\n",
              "      --disabled-bg-color: #3B4455;\n",
              "      --disabled-fill-color: #666;\n",
              "  }\n",
              "\n",
              "  .colab-df-quickchart {\n",
              "    background-color: var(--bg-color);\n",
              "    border: none;\n",
              "    border-radius: 50%;\n",
              "    cursor: pointer;\n",
              "    display: none;\n",
              "    fill: var(--fill-color);\n",
              "    height: 32px;\n",
              "    padding: 0;\n",
              "    width: 32px;\n",
              "  }\n",
              "\n",
              "  .colab-df-quickchart:hover {\n",
              "    background-color: var(--hover-bg-color);\n",
              "    box-shadow: 0 1px 2px rgba(60, 64, 67, 0.3), 0 1px 3px 1px rgba(60, 64, 67, 0.15);\n",
              "    fill: var(--button-hover-fill-color);\n",
              "  }\n",
              "\n",
              "  .colab-df-quickchart-complete:disabled,\n",
              "  .colab-df-quickchart-complete:disabled:hover {\n",
              "    background-color: var(--disabled-bg-color);\n",
              "    fill: var(--disabled-fill-color);\n",
              "    box-shadow: none;\n",
              "  }\n",
              "\n",
              "  .colab-df-spinner {\n",
              "    border: 2px solid var(--fill-color);\n",
              "    border-color: transparent;\n",
              "    border-bottom-color: var(--fill-color);\n",
              "    animation:\n",
              "      spin 1s steps(1) infinite;\n",
              "  }\n",
              "\n",
              "  @keyframes spin {\n",
              "    0% {\n",
              "      border-color: transparent;\n",
              "      border-bottom-color: var(--fill-color);\n",
              "      border-left-color: var(--fill-color);\n",
              "    }\n",
              "    20% {\n",
              "      border-color: transparent;\n",
              "      border-left-color: var(--fill-color);\n",
              "      border-top-color: var(--fill-color);\n",
              "    }\n",
              "    30% {\n",
              "      border-color: transparent;\n",
              "      border-left-color: var(--fill-color);\n",
              "      border-top-color: var(--fill-color);\n",
              "      border-right-color: var(--fill-color);\n",
              "    }\n",
              "    40% {\n",
              "      border-color: transparent;\n",
              "      border-right-color: var(--fill-color);\n",
              "      border-top-color: var(--fill-color);\n",
              "    }\n",
              "    60% {\n",
              "      border-color: transparent;\n",
              "      border-right-color: var(--fill-color);\n",
              "    }\n",
              "    80% {\n",
              "      border-color: transparent;\n",
              "      border-right-color: var(--fill-color);\n",
              "      border-bottom-color: var(--fill-color);\n",
              "    }\n",
              "    90% {\n",
              "      border-color: transparent;\n",
              "      border-bottom-color: var(--fill-color);\n",
              "    }\n",
              "  }\n",
              "</style>\n",
              "\n",
              "  <script>\n",
              "    async function quickchart(key) {\n",
              "      const quickchartButtonEl =\n",
              "        document.querySelector('#' + key + ' button');\n",
              "      quickchartButtonEl.disabled = true;  // To prevent multiple clicks.\n",
              "      quickchartButtonEl.classList.add('colab-df-spinner');\n",
              "      try {\n",
              "        const charts = await google.colab.kernel.invokeFunction(\n",
              "            'suggestCharts', [key], {});\n",
              "      } catch (error) {\n",
              "        console.error('Error during call to suggestCharts:', error);\n",
              "      }\n",
              "      quickchartButtonEl.classList.remove('colab-df-spinner');\n",
              "      quickchartButtonEl.classList.add('colab-df-quickchart-complete');\n",
              "    }\n",
              "    (() => {\n",
              "      let quickchartButtonEl =\n",
              "        document.querySelector('#df-1d89f5af-d0ce-412f-a542-e60888acdda4 button');\n",
              "      quickchartButtonEl.style.display =\n",
              "        google.colab.kernel.accessAllowed ? 'block' : 'none';\n",
              "    })();\n",
              "  </script>\n",
              "</div>\n",
              "    </div>\n",
              "  </div>\n"
            ],
            "application/vnd.google.colaboratory.intrinsic+json": {
              "type": "dataframe",
              "variable_name": "prices",
              "summary": "{\n  \"name\": \"prices\",\n  \"rows\": 250,\n  \"fields\": [\n    {\n      \"column\": \"Date\",\n      \"properties\": {\n        \"dtype\": \"date\",\n        \"min\": \"2023-01-03 00:00:00\",\n        \"max\": \"2023-12-29 00:00:00\",\n        \"num_unique_values\": 250,\n        \"samples\": [\n          \"2023-07-28 00:00:00\",\n          \"2023-01-11 00:00:00\",\n          \"2023-05-23 00:00:00\"\n        ],\n        \"semantic_type\": \"\",\n        \"description\": \"\"\n      }\n    },\n    {\n      \"column\": \"FIBBG000B9XRY4\",\n      \"properties\": {\n        \"dtype\": \"number\",\n        \"std\": 17.481789138471754,\n        \"min\": 124.1666,\n        \"max\": 197.8575,\n        \"num_unique_values\": 246,\n        \"samples\": [\n          147.6917,\n          132.5788,\n          169.9888\n        ],\n        \"semantic_type\": \"\",\n        \"description\": \"\"\n      }\n    }\n  ]\n}"
            }
          },
          "metadata": {},
          "execution_count": 21
        }
      ]
    },
    {
      "cell_type": "markdown",
      "source": [
        "# **Visualization of the Apple stocks in the given Time-Frame**"
      ],
      "metadata": {
        "id": "xvWYFtx15GJT"
      }
    },
    {
      "cell_type": "code",
      "source": [
        "prices['FIBBG000B9XRY4'].plot(figsize=(12, 6), color='blue', linestyle='-')\n",
        "\n",
        "plt.title('Apple Stock Prices Over the given Time-Frame')\n",
        "plt.xlabel('Date')\n",
        "plt.ylabel('Stock Price')\n",
        "plt.grid(True)\n",
        "plt.show()"
      ],
      "metadata": {
        "colab": {
          "base_uri": "https://localhost:8080/",
          "height": 537
        },
        "id": "v93zwYHp1fDl",
        "outputId": "f4e1bd3b-aec0-4d37-99d5-6dee6ae0479e"
      },
      "execution_count": 22,
      "outputs": [
        {
          "output_type": "display_data",
          "data": {
            "text/plain": [
              "<Figure size 1200x600 with 1 Axes>"
            ],
            "image/png": "[encoded data removed]"
          },
          "metadata": {}
        }
      ]
    },
    {
      "cell_type": "markdown",
      "source": [
        "# **Converting the Data to list of tuples for the ease of use, and appending the dates along with the closing prices**"
      ],
      "metadata": {
        "id": "B5Uj5o9YvFC1"
      }
    },
    {
      "cell_type": "code",
      "source": [
        "closing_prices = []\n",
        "\n",
        "# Iterate over the series\n",
        "for date, value in prices.iloc[:,0].items():\n",
        "    closing_prices.append((str(date.date()), value))\n",
        "\n",
        "print(closing_prices, len(closing_prices))\n",
        "\n"
      ],
      "metadata": {
        "id": "H5S6WqTUgLlZ",
        "colab": {
          "base_uri": "https://localhost:8080/"
        },
        "outputId": "77e93040-81c5-4955-c4e7-9c16781686df"
      },
      "execution_count": 23,
      "outputs": [
        {
          "output_type": "stream",
          "name": "stdout",
          "text": [
            "[('2023-01-03', 124.2163), ('2023-01-04', 125.4975), ('2023-01-05', 124.1666), ('2023-01-06', 128.7352), ('2023-01-09', 129.2616), ('2023-01-10', 129.8377), ('2023-01-11', 132.5788), ('2023-01-12', 132.4994), ('2023-01-13', 133.8402), ('2023-01-17', 135.0121), ('2023-01-18', 134.2871), ('2023-01-19', 134.3467), ('2023-01-20', 136.9289), ('2023-01-23', 140.1468), ('2023-01-24', 141.5571), ('2023-01-25', 140.8917), ('2023-01-26', 142.9774), ('2023-01-27', 144.9339), ('2023-01-30', 142.0239), ('2023-01-31', 143.3051), ('2023-02-01', 144.4373), ('2023-02-02', 149.7905), ('2023-02-03', 153.4454), ('2023-02-06', 150.6943), ('2023-02-07', 153.5944), ('2023-02-08', 150.883), ('2023-02-09', 149.8402), ('2023-02-10', 150.2082), ('2023-02-13', 153.0332), ('2023-02-14', 152.3866), ('2023-02-15', 154.5053), ('2023-02-16', 152.8939), ('2023-02-17', 151.7401), ('2023-02-21', 147.6917), ('2023-02-22', 148.1194), ('2023-02-23', 148.6068), ('2023-02-24', 145.9311), ('2023-02-27', 147.1346), ('2023-02-28', 146.6273), ('2023-03-01', 144.5385), ('2023-03-02', 145.1353), ('2023-03-03', 150.2281), ('2023-03-06', 153.0133), ('2023-03-07', 150.7951), ('2023-03-08', 152.0584), ('2023-03-09', 149.7905), ('2023-03-10', 147.7116), ('2023-03-13', 149.6711), ('2023-03-14', 151.7798), ('2023-03-15', 152.1777), ('2023-03-16', 155.0225), ('2023-03-17', 154.177), ('2023-03-20', 156.5643), ('2023-03-21', 158.4343), ('2023-03-22', 156.992), ('2023-03-23', 158.0862), ('2023-03-24', 159.3992), ('2023-03-27', 157.4396), ('2023-03-28', 156.813), ('2023-03-29', 159.9164), ('2023-03-30', 161.498), ('2023-03-31', 164.0245), ('2023-04-03', 165.2877), ('2023-04-04', 164.7506), ('2023-04-05', 162.8905), ('2023-04-06', 163.7858), ('2023-04-10', 161.1697), ('2023-04-11', 159.9463), ('2023-04-12', 159.25), ('2023-04-13', 164.681), ('2023-04-14', 164.3328), ('2023-04-17', 164.3527), ('2023-04-18', 165.5861), ('2023-04-19', 166.74), ('2023-04-20', 165.7652), ('2023-04-21', 164.1438), ('2023-04-24', 164.4522), ('2023-04-25', 162.9005), ('2023-04-26', 162.8905), ('2023-04-27', 167.5158), ('2023-04-28', 168.7791), ('2023-05-01', 168.6896), ('2023-05-02', 167.6452), ('2023-05-03', 166.5609), ('2023-05-04', 164.9098), ('2023-05-05', 172.6485), ('2023-05-08', 172.5788), ('2023-05-09', 170.858), ('2023-05-10', 172.6335), ('2023-05-11', 172.8275), ('2023-05-12', 171.8912), ('2023-05-15', 171.3932), ('2023-05-16', 171.3932), ('2023-05-17', 172.0107), ('2023-05-18', 174.3614), ('2023-05-19', 174.471), ('2023-05-22', 173.5148), ('2023-05-23', 170.8852), ('2023-05-24', 171.1641), ('2023-05-25', 172.3095), ('2023-05-26', 174.7399), ('2023-05-30', 176.6026), ('2023-05-31', 176.5528), ('2023-06-01', 179.3816), ('2023-06-02', 180.2382), ('2023-06-05', 178.8736), ('2023-06-06', 178.5051), ('2023-06-07', 177.1205), ('2023-06-08', 179.8597), ('2023-06-09', 180.2482), ('2023-06-12', 183.0671), ('2023-06-13', 182.5889), ('2023-06-14', 183.2264), ('2023-06-15', 185.2783), ('2023-06-16', 184.1926), ('2023-06-20', 184.2823), ('2023-06-21', 183.2364), ('2023-06-22', 186.2644), ('2023-06-23', 185.9457), ('2023-06-26', 184.5412), ('2023-06-27', 187.3203), ('2023-06-28', 188.5056), ('2023-06-29', 188.8442), ('2023-06-30', 193.207), ('2023-07-03', 191.703), ('2023-07-05', 190.5774), ('2023-07-06', 191.0555), ('2023-07-07', 189.93), ('2023-07-10', 187.8681), ('2023-07-11', 187.3402), ('2023-07-12', 189.0235), ('2023-07-13', 189.7905), ('2023-07-14', 189.9399), ('2023-07-17', 193.2269), ('2023-07-18', 192.968), ('2023-07-19', 194.3326), ('2023-07-20', 192.3703), ('2023-07-21', 191.185), ('2023-07-24', 191.9918), ('2023-07-25', 192.8584), ('2023-07-26', 193.7349), ('2023-07-27', 192.46), ('2023-07-28', 195.0597), ('2023-07-31', 195.6773), ('2023-08-01', 194.8356), ('2023-08-02', 191.8225), ('2023-08-03', 190.418), ('2023-08-04', 181.2741), ('2023-08-07', 178.1465), ('2023-08-08', 179.0928), ('2023-08-09', 177.4891), ('2023-08-10', 177.27), ('2023-08-11', 177.3298), ('2023-08-14', 178.9955), ('2023-08-15', 176.9907), ('2023-08-16', 176.113), ('2023-08-17', 173.5496), ('2023-08-18', 174.0383), ('2023-08-21', 175.3848), ('2023-08-22', 176.7712), ('2023-08-23', 180.6512), ('2023-08-24', 175.9234), ('2023-08-25', 178.1477), ('2023-08-28', 179.7236), ('2023-08-29', 183.6434), ('2023-08-30', 187.1643), ('2023-08-31', 187.3837), ('2023-09-01', 188.9696), ('2023-09-05', 189.209), ('2023-09-06', 182.4365), ('2023-09-07', 177.1004), ('2023-09-08', 177.7188), ('2023-09-11', 178.8957), ('2023-09-12', 175.8437), ('2023-09-13', 173.7591), ('2023-09-14', 175.2851), ('2023-09-15', 174.557), ('2023-09-18', 177.5093), ('2023-09-19', 178.6065), ('2023-09-20', 175.0357), ('2023-09-21', 173.4798), ('2023-09-22', 174.3376), ('2023-09-25', 175.6242), ('2023-09-26', 171.5149), ('2023-09-27', 169.9888), ('2023-09-28', 170.2482), ('2023-09-29', 170.7668), ('2023-10-02', 173.3003), ('2023-10-03', 171.9537), ('2023-10-04', 173.2105), ('2023-10-05', 174.4573), ('2023-10-06', 177.0306), ('2023-10-09', 178.5267), ('2023-10-10', 177.9282), ('2023-10-11', 179.3346), ('2023-10-12', 180.2422), ('2023-10-13', 178.3871), ('2023-10-16', 178.2574), ('2023-10-17', 176.6915), ('2023-10-18', 175.3848), ('2023-10-19', 175.0058), ('2023-10-20', 172.4325), ('2023-10-23', 172.5522), ('2023-10-24', 172.9911), ('2023-10-25', 170.6571), ('2023-10-26', 166.458), ('2023-10-27', 167.7846), ('2023-10-30', 169.8492), ('2023-10-31', 170.328), ('2023-11-01', 173.5197), ('2023-11-02', 177.1104), ('2023-11-03', 176.1927), ('2023-11-06', 178.7661), ('2023-11-07', 181.3494), ('2023-11-08', 182.4166), ('2023-11-09', 181.9378), ('2023-11-10', 186.1624), ('2023-11-13', 184.5645), ('2023-11-14', 187.2011), ('2023-11-15', 187.7704), ('2023-11-16', 189.4682), ('2023-11-17', 189.4483), ('2023-11-20', 191.206), ('2023-11-21', 190.397), ('2023-11-22', 191.0662), ('2023-11-24', 189.7279), ('2023-11-27', 189.5481), ('2023-11-28', 190.1573), ('2023-11-29', 189.1287), ('2023-11-30', 189.7079), ('2023-12-01', 190.9963), ('2023-12-04', 189.1886), ('2023-12-05', 193.1735), ('2023-12-06', 192.0749), ('2023-12-07', 194.0224), ('2023-12-08', 195.4606), ('2023-12-11', 192.9338), ('2023-12-12', 194.4619), ('2023-12-13', 197.7077), ('2023-12-14', 197.8575), ('2023-12-15', 197.3182), ('2023-12-18', 195.6404), ('2023-12-19', 196.689), ('2023-12-20', 194.5817), ('2023-12-21', 194.4319), ('2023-12-22', 193.3533), ('2023-12-26', 192.804), ('2023-12-27', 192.9038), ('2023-12-28', 193.3333), ('2023-12-29', 192.2846)] 250\n"
          ]
        }
      ]
    },
    {
      "cell_type": "markdown",
      "source": [
        "# **Did the following in the current code section:**\n",
        "1. Calculating the returns from the closed prices.\n",
        "2. Then calculating the states of each price of the stock each day with the help of returns.\n",
        "3. Also appending the Dates along with states"
      ],
      "metadata": {
        "id": "fFydX1a4vPav"
      }
    },
    {
      "cell_type": "code",
      "source": [
        "def find_returns_and_states(data):\n",
        "    returns_and_states = []\n",
        "\n",
        "    for i in range(1, len(data)):\n",
        "        # Calculate daily returns\n",
        "        returns = (data[i][1] - data[i-1][1]) / data[i-1][1]\n",
        "\n",
        "        # Classify states\n",
        "        if returns >= 0.01:    # Checking if the returns are greater or equal to 1% and assign state = 1\n",
        "            state = 1\n",
        "        elif returns > -0.01:  # Checking if the returns are greater or equal to 1% and assign state = 0\n",
        "            state = 0\n",
        "        else:                  # Applying s = -1 for all other return values\n",
        "            state = -1\n",
        "\n",
        "        # Appending timestamp and state to the list\n",
        "        returns_and_states.append((data[i][0], state))\n",
        "\n",
        "    return returns_and_states\n",
        "\n",
        "# Call the function with the list of tuples\n",
        "states = find_returns_and_states(closing_prices)\n",
        "\n",
        "len(states)"
      ],
      "metadata": {
        "id": "Umqku2xkgNig",
        "colab": {
          "base_uri": "https://localhost:8080/"
        },
        "outputId": "40c22358-1925-46af-a922-c1da61cd49c0"
      },
      "execution_count": 24,
      "outputs": [
        {
          "output_type": "execute_result",
          "data": {
            "text/plain": [
              "249"
            ]
          },
          "metadata": {},
          "execution_count": 24
        }
      ]
    },
    {
      "cell_type": "markdown",
      "source": [
        "# **Calculating the Transition Distribution and displaying it.**"
      ],
      "metadata": {
        "id": "1oNwAopdvbns"
      }
    },
    {
      "cell_type": "code",
      "source": [
        "def calculate_transition_distribution(states):\n",
        "    # Dictionary to store transition counts\n",
        "    transition_counts = {\n",
        "        1: {1: 0, 0: 0, -1: 0},\n",
        "        0: {1: 0, 0: 0, -1: 0},\n",
        "        -1: {1: 0, 0: 0, -1: 0}\n",
        "    }\n",
        "\n",
        "    for i in range(len(states) - 1):\n",
        "        current_state = states[i][1]\n",
        "        next_state = states[i+1][1]\n",
        "\n",
        "        # Updating transition counts\n",
        "        transition_counts[current_state][next_state] += 1\n",
        "\n",
        "    # Calculating transition probabilities\n",
        "    transition_distribution = {}\n",
        "    for state, transitions in transition_counts.items():\n",
        "        total_transitions = sum(transitions.values())\n",
        "        if total_transitions > 0:\n",
        "            transition_probs = {next_state: count / total_transitions for next_state, count in transitions.items()}\n",
        "        else:\n",
        "            transition_probs = {next_state: 0 for next_state in transitions}\n",
        "        transition_distribution[state] = transition_probs\n",
        "\n",
        "    return transition_distribution\n",
        "\n",
        "# Calling the function with the 'states' list\n",
        "transition_distribution = calculate_transition_distribution(states)\n",
        "\n",
        "# print(transition_distribution)\n",
        "\n",
        "# Mapping integer keys to corresponding labels\n",
        "label_map = {1: \"Bullish\", 0: \"Flat\", -1: \"Bearish\"}\n",
        "\n",
        "# Converting the dictionary to a list of lists\n",
        "table = []\n",
        "for row_key in transition_distribution.keys():\n",
        "    row = [label_map[row_key]]\n",
        "    for col_key in transition_distribution[row_key].keys():\n",
        "        row.append(\"{:.6f}\".format(transition_distribution[row_key][col_key]))\n",
        "    table.append(row)\n",
        "\n",
        "# Printing the labeled 2D Transition Distribution list with grids\n",
        "print(\"\\nTransition Distribution: \\n\")\n",
        "print(tabulate(table, headers=[\"\"] + list(label_map.values()), tablefmt=\"grid\"))\n",
        "\n"
      ],
      "metadata": {
        "id": "rSv3ARXfgTA3",
        "colab": {
          "base_uri": "https://localhost:8080/"
        },
        "outputId": "a9f908aa-25cb-4a42-a961-5f4a8e715f3c"
      },
      "execution_count": 25,
      "outputs": [
        {
          "output_type": "stream",
          "name": "stdout",
          "text": [
            "\n",
            "Transition Distribution: \n",
            "\n",
            "+---------+-----------+----------+-----------+\n",
            "|         |   Bullish |     Flat |   Bearish |\n",
            "+=========+===========+==========+===========+\n",
            "| Bullish |  0.196429 | 0.678571 |  0.125    |\n",
            "+---------+-----------+----------+-----------+\n",
            "| Flat    |  0.254777 | 0.598726 |  0.146497 |\n",
            "+---------+-----------+----------+-----------+\n",
            "| Bearish |  0.114286 | 0.742857 |  0.142857 |\n",
            "+---------+-----------+----------+-----------+\n"
          ]
        }
      ]
    },
    {
      "cell_type": "markdown",
      "source": [
        "# **Calculating the optimal days to buy the stock inorder to maximise the portfolio value**"
      ],
      "metadata": {
        "id": "eiMfdWibu1DL"
      }
    },
    {
      "cell_type": "code",
      "source": [
        "\n",
        "\n",
        "def calculate_portfolio_value(states):\n",
        "    V = 0  # Initial portfolio value\n",
        "    buy_indices = []\n",
        "    buy_dates = []\n",
        "    state = \"Flat\"  # Initialize the current state as \"Flat\"\n",
        "\n",
        "    # Initialize dictionary (memo) to hold the state combinations of current_day and next_day\n",
        "    memo = {(1, 0): 1, (-1, 0): -1}\n",
        "\n",
        "    # Iterate through each state transition\n",
        "    for i in range(len(states) - 1):\n",
        "        current_state = states[i][1]\n",
        "        next_state = states[i + 1][1]\n",
        "\n",
        "        # If the state comibination satisfies any of the one present in the dictionary then that value is taken as their portfolio value on that day\n",
        "        if (next_state, current_state) in memo:\n",
        "            V += memo[(next_state, current_state)]\n",
        "            if memo[(next_state, current_state)] == 1:\n",
        "                buy_indices.append(i + 1)  # Index of the day to buy\n",
        "                buy_dates.append(states[i + 1][0]) # dates to buy\n",
        "\n",
        "    return V, buy_indices, buy_dates\n",
        "\n",
        "\n",
        "portfolio_value, optimal_buy_indices, optimal_buy_dates = calculate_portfolio_value(states)\n",
        "\n",
        "print(\"\\nOptimal portfolio value (V(N)): \", portfolio_value)\n",
        "print(\"\\nOptimal buy indices: \", optimal_buy_indices)\n",
        "print(\"\\nOptimal buy dates: \", optimal_buy_dates)\n",
        "print(f\"\\nLength of the Optimal Buy indices: {len(optimal_buy_indices)} \\n\\nLength of the Optimal buy dates: {len(optimal_buy_dates)}\")\n"
      ],
      "metadata": {
        "id": "HN23a5X3gWRE",
        "colab": {
          "base_uri": "https://localhost:8080/"
        },
        "outputId": "c5b75d55-045a-4345-bd94-74f8484c0a51"
      },
      "execution_count": 26,
      "outputs": [
        {
          "output_type": "stream",
          "name": "stdout",
          "text": [
            "\n",
            "Optimal portfolio value (V(N)):  17\n",
            "\n",
            "Optimal buy indices:  [5, 7, 11, 15, 20, 27, 29, 40, 49, 51, 58, 60, 68, 78, 84, 87, 93, 99, 102, 107, 109, 112, 116, 119, 122, 132, 141, 159, 163, 176, 186, 190, 206, 208, 211, 215, 217, 231, 233, 237]\n",
            "\n",
            "Optimal buy dates:  ['2023-01-11', '2023-01-13', '2023-01-20', '2023-01-26', '2023-02-02', '2023-02-13', '2023-02-15', '2023-03-03', '2023-03-16', '2023-03-20', '2023-03-29', '2023-03-31', '2023-04-13', '2023-04-27', '2023-05-05', '2023-05-10', '2023-05-18', '2023-05-26', '2023-06-01', '2023-06-08', '2023-06-12', '2023-06-15', '2023-06-22', '2023-06-27', '2023-06-30', '2023-07-17', '2023-07-28', '2023-08-23', '2023-08-29', '2023-09-18', '2023-10-02', '2023-10-06', '2023-10-30', '2023-11-01', '2023-11-06', '2023-11-10', '2023-11-14', '2023-12-05', '2023-12-07', '2023-12-13']\n",
            "\n",
            "Length of the Optimal Buy indices: 40 \n",
            "\n",
            "Length of the Optimal buy dates: 40\n"
          ]
        }
      ]
    }
  ]
}